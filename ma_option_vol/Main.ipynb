{
 "cells": [
  {
   "cell_type": "markdown",
   "metadata": {},
   "source": [
    "# Follow the instructions below in order to generate and sort Bloomberg Data\n",
    "Note: To work correctly, these functions need to run on a machine with the Bloomberg Excel Add-in.\n",
    "The code in each cell should only be run once\n",
    "\n",
    "Hit Shift enter to run each cell"
   ]
  },
  {
   "cell_type": "code",
   "execution_count": null,
   "metadata": {
    "collapsed": false
   },
   "outputs": [],
   "source": [
    "#necessary imports\n",
    "import os\n",
    "import sys\n",
    "import add_bloomberg_excel_functions as abxl\n",
    "import generate_company_workbooks as gcw\n",
    "import generate_sorted_options_workbooks as gsow\n",
    "import update_excel_workbooks as uxlw\n",
    "import iv_calculation as ivc\n",
    "from CONSTANTS import ACQUIRER_DIR, TARGET_DIR"
   ]
  },
  {
   "cell_type": "markdown",
   "metadata": {},
   "source": [
    "## Step 1) \n",
    "### Initalize a Create_Company_Workbooks() object and run the create_company_workbooks() method from gcw"
   ]
  },
  {
   "cell_type": "code",
   "execution_count": null,
   "metadata": {
    "collapsed": false
   },
   "outputs": [],
   "source": [
    "                ####################  DONT RUN MORE THAN ONCE  ############################\n",
    "\n",
    "#creates an instance of the Create_Company_Workbooks class\n",
    "workbook_generator = gcw.Create_Company_Workbooks(source_sheet_name='Filtered Sample Set')\n",
    "                                            \n",
    "#calls the create_company_workbooks method on workbook_generator\n",
    "workbook_generator.create_company_workbooks()"
   ]
  },
  {
   "cell_type": "markdown",
   "metadata": {},
   "source": [
    "## Step 2) \n",
    "### Create a variable to store the list of names for each newly created file"
   ]
  },
  {
   "cell_type": "code",
   "execution_count": null,
   "metadata": {
    "collapsed": false
   },
   "outputs": [],
   "source": [
    "target_path = TARGET_DIR\n",
    "acquirer_path = ACQUIRER_DIR\n",
    "\n",
    "#A list of each file in the target folder\n",
    "target_file_list = os.listdir(target_path)\n",
    "\n",
    "#A list of each file in the acquirer folder\n",
    "acquirer_file_list = os.listdir(acquirer_path)\n"
   ]
  },
  {
   "cell_type": "markdown",
   "metadata": {},
   "source": [
    "## Step 3) \n",
    "### Open each workbook and save it after the Bloomberg data has populated. Then run the update_read_data_only() function from uxlw on each workbook to remove the function link to Bloomberg, while maintaining all the loaded data"
   ]
  },
  {
   "cell_type": "code",
   "execution_count": null,
   "metadata": {
    "collapsed": false
   },
   "outputs": [],
   "source": [
    "#loop through every target company and run the update_read_data_only() function\n",
    "for (index, company_file) in enumerate(target_file_list):\n",
    "    company_full_path='{}/{}'.format(target_path, company_file)\n",
    "    uxlw.update_read_data_only(file_path= company_full_path)"
   ]
  },
  {
   "cell_type": "code",
   "execution_count": null,
   "metadata": {
    "collapsed": false
   },
   "outputs": [],
   "source": [
    "#loop through every acquirer company and run the update_read_data_only() function\n",
    "for (index,company_file) in enumerate(acquirer_file_list):\n",
    "    company_full_path='{}/{}'.format(acquirer_path, company_file)\n",
    "    uxlw.update_read_data_only(file_path= company_full_path)"
   ]
  },
  {
   "cell_type": "markdown",
   "metadata": {},
   "source": [
    "## Step 4) \n",
    "### Run the update_sheet_with_BDP_description() function from uxlw"
   ]
  },
  {
   "cell_type": "code",
   "execution_count": null,
   "metadata": {
    "collapsed": true
   },
   "outputs": [],
   "source": [
    "#loop through every target company and run the update_sheet_with_BDP_description() function\n",
    "for (index, company_file) in enumerate(target_file_list):\n",
    "    company_full_path='{}/{}'.format(target_path, company_file)\n",
    "    uxlw.update_sheet_with_BDP_description(workbook_path=company_full_path, sheet_name='Options Chain',\n",
    "                                           starting_col=1, starting_row=10)"
   ]
  },
  {
   "cell_type": "code",
   "execution_count": null,
   "metadata": {
    "collapsed": false
   },
   "outputs": [],
   "source": [
    "#loop through every acquirer company and run the update_sheet_with_BDP_description() function\n",
    "for (index,company_file) in enumerate(acquirer_file_list):\n",
    "    company_full_path='{}/{}'.format(acquirer_path, company_file)\n",
    "    uxlw.update_sheet_with_BDP_description(workbook_path=company_full_path, sheet_name='Options Chain',\n",
    "                                           starting_col=1, starting_row=10)"
   ]
  },
  {
   "cell_type": "markdown",
   "metadata": {},
   "source": [
    "## Step 5)\n",
    "### Run the update_stock_price_sheet()  function from uxlw to add a stock prick sheet to each workbook"
   ]
  },
  {
   "cell_type": "code",
   "execution_count": null,
   "metadata": {
    "collapsed": false
   },
   "outputs": [],
   "source": [
    "#loop through evert target and run the function to add the stock sheet to the workbook\n",
    "for (index, company_file) in enumerate(target_file_list):\n",
    "    company_full_path='{}/{}'.format(target_path, company_file)\n",
    "    try:\n",
    "        uxlw.update_stock_price_sheet(workbook_path =company_full_path,\n",
    "                                        sheet_name='Options Chain',\n",
    "                                        stock_sheet_index = 1,\n",
    "                                        sheet_start_date_cell='B7',\n",
    "                                        sheet_announce_date_cell='B8', \n",
    "                                        sheet_end_date_cell='B9',  \n",
    "                                        data_header_row=8, \n",
    "                                        data_table_index=['INDEX','DATE'], \n",
    "                                        data_table_header=['PX_LAST'],\n",
    "                                        BDH_optional_arg=['Days', 'Fill'],\n",
    "                                        BDH_optional_val=['W','0'])\n",
    "    except:\n",
    "        print('ISSUE WITH: {}'.format(company_file))"
   ]
  },
  {
   "cell_type": "code",
   "execution_count": null,
   "metadata": {
    "collapsed": false
   },
   "outputs": [],
   "source": [
    "#loop through every acquirer and run the function to add the stock sheet to the workbook\n",
    "for (index,company_file) in enumerate(acquirer_file_list):\n",
    "    company_full_path='{}/{}'.format(acquirer_path, company_file)\n",
    "    try:\n",
    "        uxlw.update_stock_price_sheet(workbook_path =company_full_path,\n",
    "                                        sheet_name='Options Chain',\n",
    "                                        stock_sheet_index = 1,\n",
    "                                        sheet_start_date_cell='B7',\n",
    "                                        sheet_announce_date_cell='B8', \n",
    "                                        sheet_end_date_cell='B9',  \n",
    "                                        data_header_row=8, \n",
    "                                        data_table_index=['INDEX','DATE'], \n",
    "                                        data_table_header=['PX_LAST'],\n",
    "                                        BDH_optional_arg=['Days', 'Fill'],\n",
    "                                        BDH_optional_val=['W','0'])\n",
    "    except:\n",
    "        print('ISSUE WITH: {}'.format(company_file))"
   ]
  },
  {
   "cell_type": "markdown",
   "metadata": {},
   "source": [
    "## Step 6) \n",
    "### Open each workbook and save it after the Bloomberg data has populated. Then run the update_read_data_only() function from uxlw on each workbook to remove the function link to Bloomberg, while maintaining all the loaded data"
   ]
  },
  {
   "cell_type": "code",
   "execution_count": null,
   "metadata": {
    "collapsed": false
   },
   "outputs": [],
   "source": [
    "#loop through every target company and run the update_read_data_only() function\n",
    "for (index, company_file) in enumerate(target_file_list):\n",
    "    company_full_path='{}/{}'.format(target_path, company_file)\n",
    "    uxlw.update_read_data_only(file_path= company_full_path)"
   ]
  },
  {
   "cell_type": "code",
   "execution_count": null,
   "metadata": {
    "collapsed": true
   },
   "outputs": [],
   "source": [
    "#loop through every acquirer company and run the update_read_data_only() function\n",
    "for (index,company_file) in enumerate(acquirer_file_list):\n",
    "    company_full_path='{}/{}'.format(acquirer_path, company_file)\n",
    "    uxlw.update_read_data_only(file_path= company_full_path)"
   ]
  },
  {
   "cell_type": "markdown",
   "metadata": {},
   "source": [
    "## Step 7)\n",
    "### Run the update_option_contract_sheets() function from uxlw to add option contract sheets\n",
    "\n",
    "### If any issues are found hit the square button to skip over the company. Consider Getting data for that company by hand"
   ]
  },
  {
   "cell_type": "code",
   "execution_count": null,
   "metadata": {
    "collapsed": false
   },
   "outputs": [],
   "source": [
    "#loop through evert target company and run the function to add the options sheets to the workbook\n",
    "#potential other data_table_header's include: 'PX_BID','PX_ASK','PX_VOLUME','OPEN_INT'\n",
    "for (index, company_file) in enumerate(target_file_list):\n",
    "    company_full_path='{}/{}'.format(target_path, company_file)\n",
    "    \n",
    "    try:\n",
    "        uxlw.update_option_contract_sheets(workbook_path= company_full_path,\n",
    "                                           sheet_name='Options Chain', \n",
    "                                           starting_col =1,\n",
    "                                           starting_row=10,\n",
    "                                           sheet_start_date_cell='B7',\n",
    "                                           sheet_announce_date_cell='B8',\n",
    "                                           sheet_end_date_cell='B9',\n",
    "                                           data_header_row=8,\n",
    "                                           data_table_index=['INDEX', 'DATE'],\n",
    "                                           data_table_header=['PX_LAST'],\n",
    "                                           BDH_optional_arg=['Days','Fill'],\n",
    "                                           BDH_optional_val=['W', '0'])\n",
    "    except:\n",
    "        print('ISSUE WITH: {}'.format(company_file))"
   ]
  },
  {
   "cell_type": "code",
   "execution_count": null,
   "metadata": {
    "collapsed": false,
    "scrolled": false
   },
   "outputs": [],
   "source": [
    "#loop through evert acquirer company and run the function to add the options sheets to the workbook\n",
    "#potential other data_table_header's include: 'PX_BID','PX_ASK','PX_VOLUME','OPEN_INT'\n",
    "for (index,company_file) in enumerate(acquirer_file_list):\n",
    "    company_full_path='{}/{}'.format(acquirer_path, company_file)\n",
    "    \n",
    "    try:\n",
    "        uxlw.update_option_contract_sheets(workbook_path= company_full_path,\n",
    "                                           sheet_name='Options Chain', \n",
    "                                           starting_col =1,\n",
    "                                           starting_row=10,\n",
    "                                           sheet_start_date_cell='B7',\n",
    "                                           sheet_announce_date_cell='B8',\n",
    "                                           sheet_end_date_cell='B9',\n",
    "                                           data_header_row=8,\n",
    "                                           data_table_index=['INDEX', 'DATE'],\n",
    "                                           data_table_header=['PX_LAST'],\n",
    "                                           BDH_optional_arg=['Days','Fill'],\n",
    "                                           BDH_optional_val=['W', '0'])\n",
    "    except:\n",
    "        print('ISSUE WITH: {}'.format(company_file))"
   ]
  },
  {
   "cell_type": "markdown",
   "metadata": {},
   "source": [
    "## Step 8) \n",
    "### Open each workbook and save it after the Bloomberg data has populated. Then run the update_read_data_only() function from uxlw on each workbook to remove the function link to Bloomberg, while maintaining all the loaded data"
   ]
  },
  {
   "cell_type": "code",
   "execution_count": null,
   "metadata": {
    "collapsed": true
   },
   "outputs": [],
   "source": [
    "#loop through every target company and run the update_read_data_only() function\n",
    "for (index, company_file) in enumerate(target_file_list):\n",
    "    company_full_path='{}/{}'.format(target_path, company_file)\n",
    "    try:\n",
    "        uxlw.update_read_data_only(file_path= company_full_path)\n",
    "    except:\n",
    "        print('ISSUE WITH: {}'.format(company_file))"
   ]
  },
  {
   "cell_type": "code",
   "execution_count": null,
   "metadata": {
    "collapsed": true
   },
   "outputs": [],
   "source": [
    "#loop through every acquirer company and run the update_read_data_only() function\n",
    "for (index,company_file) in enumerate(acquirer_file_list):\n",
    "    company_full_path='{}/{}'.format(acquirer_path, company_file)\n",
    "    try:\n",
    "        uxlw.update_read_data_only(file_path= company_full_path)\n",
    "    except:\n",
    "        print('ISSUE WITH: {}'.format(company_file))"
   ]
  },
  {
   "cell_type": "markdown",
   "metadata": {},
   "source": [
    "## Step 9)\n",
    "### Run the update_workbook_data_index() function from uxlw to populate the index column for each sheet in each workbook"
   ]
  },
  {
   "cell_type": "code",
   "execution_count": null,
   "metadata": {
    "collapsed": false
   },
   "outputs": [],
   "source": [
    "#loop through every target company and run the update_workbook_data_index() function\n",
    "for (index, company_file) in enumerate(target_file_list):\n",
    "    company_full_path='{}/{}'.format(target_path, company_file)\n",
    "    try:\n",
    "        uxlw.update_workbook_data_index(workbook_path =company_full_path, data_start_row=9, index_column='A')\n",
    "    except:\n",
    "        print('ISSUE WITH: {}'.format(company_file))"
   ]
  },
  {
   "cell_type": "code",
   "execution_count": null,
   "metadata": {
    "collapsed": false
   },
   "outputs": [],
   "source": [
    "#loop through every acquirer company and run the update_workbook_data_index() function\n",
    "for (index,company_file) in enumerate(acquirer_file_list):\n",
    "    company_full_path='{}/{}'.format(acquirer_path, company_file)\n",
    "    try:\n",
    "        uxlw.update_workbook_data_index(workbook_path= company_full_path, data_start_row= 9, index_column='A')\n",
    "    except:\n",
    "        print('ISSUE WITH: {}'.format(company_file))"
   ]
  },
  {
   "cell_type": "markdown",
   "metadata": {},
   "source": [
    "## Step 10)\n",
    "### Run the update_workbook_days_till_expiration() function from uxlw to add a days till expiration column"
   ]
  },
  {
   "cell_type": "code",
   "execution_count": null,
   "metadata": {
    "collapsed": false
   },
   "outputs": [],
   "source": [
    "#loop through ever target company and run the update_workbook_days_till_expiration() function\n",
    "for (index, company_file) in enumerate(target_file_list):\n",
    "    company_full_path='{}/{}'.format(target_path, company_file)\n",
    "    try:\n",
    "        uxlw.update_workbook_days_till_expiration(reference_wb_path=company_full_path, \n",
    "                                                  data_start_row=9, \n",
    "                                                  date_col='B', \n",
    "                                                  calculation_col='D')\n",
    "    except:\n",
    "        print('ISSUE WITH: {}'.format(company_file))"
   ]
  },
  {
   "cell_type": "code",
   "execution_count": null,
   "metadata": {
    "collapsed": true
   },
   "outputs": [],
   "source": [
    "#loop through ever acquirer and company and run the update_workbook_days_till_expiration() function\n",
    "for (index,company_file) in enumerate(acquirer_file_list):\n",
    "    company_full_path='{}/{}'.format(acquirer_path, company_file)\n",
    "    try:\n",
    "        uxlw.update_workbook_days_till_expiration(reference_wb_path=company_full_path, \n",
    "                                                  data_start_row=9, \n",
    "                                                  date_col='B', \n",
    "                                                  calculation_col='D')\n",
    "    except:\n",
    "        print('ISSUE WITH: {}'.format(company_file))"
   ]
  },
  {
   "cell_type": "markdown",
   "metadata": {},
   "source": [
    "## Step 11) \n",
    "### Run the calculate_workbook_iv() function from ivc in order to calculate the implied volatility for each option through expiration. Set six_month and twelve_month to True if you would like to calculate implied volatilities using six-month and 12-month treasury rates"
   ]
  },
  {
   "cell_type": "code",
   "execution_count": null,
   "metadata": {
    "collapsed": false
   },
   "outputs": [],
   "source": [
    "#iterate through every target and calculate the implied volatility for each contract on every day that it traded\n",
    "for (index, company_file) in enumerate(target_file_list):\n",
    "    company_full_path='{}/{}'.format(target_path, company_file)\n",
    "    try:\n",
    "        ivc.calculate_workbook_iv(workbook_path=company_full_path, sheet_date_column=2, sheet_price_column=3, data_start_row=9, \n",
    "                                  three_month_data_col=5, six_month_data_col=6, twelve_month_data_col=7, \n",
    "                                  three_month=True, six_month=True, twelve_month=True)\n",
    "    except:\n",
    "        print('ISSUE WITH: {}'.format(company_file))"
   ]
  },
  {
   "cell_type": "code",
   "execution_count": null,
   "metadata": {
    "collapsed": false
   },
   "outputs": [],
   "source": [
    "#iterate through every acquirer and calculate the implied volatility for each contract on every day that it traded\n",
    "for (index,company_file) in enumerate(acquirer_file_list):\n",
    "    company_full_path='{}/{}'.format(acquirer_path, company_file)\n",
    "    try:\n",
    "        ivc.calculate_workbook_iv(workbook_path=company_full_path, sheet_date_column=2, sheet_price_column=3, data_start_row=9, \n",
    "                                  three_month_data_col=4, six_month_data_col=5, twelve_month_data_col=6, \n",
    "                                  three_month=True, six_month=True, twelve_month=True)\n",
    "        \n",
    "    except:\n",
    "        print('ISSUE WITH: {}'.format(company_file))"
   ]
  },
  {
   "cell_type": "markdown",
   "metadata": {
    "collapsed": true,
    "scrolled": true
   },
   "source": [
    "## Step 12) \n",
    "### Run the fill_option_wb_empty_cells() function from uxlw to fill empty cells with a stated fill_value"
   ]
  },
  {
   "cell_type": "code",
   "execution_count": null,
   "metadata": {
    "collapsed": false
   },
   "outputs": [],
   "source": [
    "#loop through every target company and fill empty cells in each sheet with the fill_value\n",
    "for (index, company_file) in enumerate(target_file_list):\n",
    "    company_full_path='{}/{}'.format(target_path, company_file)\n",
    "    try:\n",
    "        uxlw.fill_option_wb_empty_cells(reference_wb_path=company_full_path,\n",
    "                                    column_start=3, \n",
    "                                    row_start=9, \n",
    "                                    fill_value=0)\n",
    "    except:\n",
    "        print('ISSUE WITH: {}'.format(company_file))"
   ]
  },
  {
   "cell_type": "code",
   "execution_count": null,
   "metadata": {
    "collapsed": false
   },
   "outputs": [],
   "source": [
    "#loop through every acquirer company and fill empty cells in each sheet with the fill_value\n",
    "for (index,company_file) in enumerate(acquirer_file_list):\n",
    "    company_full_path='{}/{}'.format(acquirer_path, company_file)\n",
    "    try:\n",
    "        uxlw.fill_option_wb_empty_cells(reference_wb_path=company_full_path,\n",
    "                                    column_start=3, \n",
    "                                    row_start=9, \n",
    "                                    fill_value=0)\n",
    "    except:\n",
    "        print('ISSUE WITH: {}'.format(company_file))"
   ]
  },
  {
   "cell_type": "markdown",
   "metadata": {},
   "source": [
    "## Step 13)\n",
    "### Run the create_sorted_workbooks() function from gsow to generate options workbooks sorted by type(call and put), and either by strike, or by expiration date."
   ]
  },
  {
   "cell_type": "markdown",
   "metadata": {},
   "source": [
    "### Sort By Strike"
   ]
  },
  {
   "cell_type": "code",
   "execution_count": null,
   "metadata": {
    "collapsed": false
   },
   "outputs": [],
   "source": [
    "#iterate through every target and create a new workbook with options sorted by type (call or put), and by strike\n",
    "for (index, company_file) in enumerate(target_file_list):\n",
    "    company_full_path='{}/{}'.format(target_path, company_file)\n",
    "    try:\n",
    "        gsow.create_sorted_workbooks(reference_wb_path= company_full_path, header_start_row=8, \n",
    "                                data_column=['C','D','E'], index_column=['A'], \n",
    "                                sort_by_strike=True, sort_by_expiration=False)\n",
    "        \n",
    "    except:\n",
    "        print('ISSUE WITH: {}'.format(company_file))"
   ]
  },
  {
   "cell_type": "code",
   "execution_count": null,
   "metadata": {
    "collapsed": false
   },
   "outputs": [],
   "source": [
    "#iterate through every acquirer and create a new workbook with options sorted by type (call or put), and by strike\n",
    "for (index,company_file) in enumerate(acquirer_file_list):\n",
    "    company_full_path='{}/{}'.format(acquirer_path, company_file)\n",
    "    try:\n",
    "        gsow.create_sorted_workbooks(reference_wb_path= company_full_path, header_start_row=8, \n",
    "                                data_column=['C','D'], index_column=['A'], \n",
    "                                sort_by_strike=True, sort_by_expiration=False)\n",
    "        \n",
    "    except:\n",
    "        print('ISSUE WITH: {}'.format(company_file))"
   ]
  },
  {
   "cell_type": "markdown",
   "metadata": {},
   "source": [
    "### Sort by Expiration Date"
   ]
  },
  {
   "cell_type": "code",
   "execution_count": null,
   "metadata": {
    "collapsed": false
   },
   "outputs": [],
   "source": [
    "#iterate through every target and create a new workbook with options sorted by type (call or put), \n",
    "#and by expiration date\n",
    "for (index, company_file) in enumerate(target_file_list):\n",
    "    company_full_path='{}/{}'.format(target_path, company_file)\n",
    "    try:\n",
    "        gsow.create_sorted_workbooks(reference_wb_path= company_full_path, header_start_row=8, \n",
    "                                data_column=['C','D'], index_column=['A'], \n",
    "                                sort_by_strike=False, sort_by_expiration=True)\n",
    "        \n",
    "    except:\n",
    "        print('ISSUE WITH: {}'.format(company_file))"
   ]
  },
  {
   "cell_type": "code",
   "execution_count": null,
   "metadata": {
    "collapsed": false
   },
   "outputs": [],
   "source": [
    "#iterate through every acquirer and create a new workbook with options sorted by type (call or put), \n",
    "#and by expiration date\n",
    "for (index,company_file) in enumerate(acquirer_file_list):\n",
    "    company_full_path='{}/{}'.format(acquirer_path, company_file)\n",
    "    try:\n",
    "        gsow.create_sorted_workbooks(reference_wb_path= company_full_path, header_start_row=8, \n",
    "                                data_column=['C','D'], index_column=['A'], \n",
    "                                sort_by_strike=False, sort_by_expiration=True)\n",
    "        \n",
    "    except:\n",
    "        print('ISSUE WITH: {}'.format(company_file))"
   ]
  },
  {
   "cell_type": "code",
   "execution_count": null,
   "metadata": {
    "collapsed": true
   },
   "outputs": [],
   "source": []
  },
  {
   "cell_type": "code",
   "execution_count": null,
   "metadata": {
    "collapsed": true
   },
   "outputs": [],
   "source": []
  },
  {
   "cell_type": "markdown",
   "metadata": {},
   "source": [
    "## OPTIONAL\n",
    "\n",
    "### If anything goes wrong and sheets need to be deleted, call the delet_workbook_option_sheets() function to remove all the loaded option sheets"
   ]
  },
  {
   "cell_type": "code",
   "execution_count": null,
   "metadata": {
    "collapsed": true
   },
   "outputs": [],
   "source": [
    "#iterate through every target and create a new workbook with options sorted by type (call or put), \n",
    "#and by expiration date\n",
    "for (index, company_file) in enumerate(target_file_list):\n",
    "    company_full_path='{}/{}'.format(target_path, company_file)\n",
    "    try:\n",
    "        uxlw.delet_workbook_option_sheets(workbook_path=company_full_path)\n",
    "        \n",
    "    except:\n",
    "        print('ISSUE WITH: {}'.format(company_file))"
   ]
  },
  {
   "cell_type": "code",
   "execution_count": null,
   "metadata": {
    "collapsed": false
   },
   "outputs": [],
   "source": [
    "#iterate through every acquirer and create a new workbook with options sorted by type (call or put), \n",
    "#and by expiration date\n",
    "for (index,company_file) in enumerate(acquirer_file_list):\n",
    "    company_full_path='{}/{}'.format(acquirer_path, company_file)\n",
    "    try:\n",
    "        uxlw.delet_workbook_option_sheets(workbook_path=company_full_path)\n",
    "        \n",
    "    except Exception as e:\n",
    "        print('ISSUE WITH: {}, \\n{}'.format(company_file, e))"
   ]
  },
  {
   "cell_type": "code",
   "execution_count": null,
   "metadata": {
    "collapsed": true
   },
   "outputs": [],
   "source": []
  }
 ],
 "metadata": {
  "kernelspec": {
   "display_name": "Python 3",
   "language": "python",
   "name": "python3"
  },
  "language_info": {
   "codemirror_mode": {
    "name": "ipython",
    "version": 3
   },
   "file_extension": ".py",
   "mimetype": "text/x-python",
   "name": "python",
   "nbconvert_exporter": "python",
   "pygments_lexer": "ipython3",
   "version": "3.6.0"
  }
 },
 "nbformat": 4,
 "nbformat_minor": 2
}
